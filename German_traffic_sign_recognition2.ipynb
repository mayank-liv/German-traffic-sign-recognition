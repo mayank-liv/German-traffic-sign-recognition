{
  "nbformat": 4,
  "nbformat_minor": 0,
  "metadata": {
    "colab": {
      "name": "German traffic sign recognition2.ipynb",
      "version": "0.3.2",
      "provenance": [],
      "collapsed_sections": [],
      "toc_visible": true,
      "machine_shape": "hm",
      "include_colab_link": true
    },
    "kernelspec": {
      "name": "python3",
      "display_name": "Python 3"
    },
    "accelerator": "GPU"
  },
  "cells": [
    {
      "cell_type": "markdown",
      "metadata": {
        "id": "view-in-github",
        "colab_type": "text"
      },
      "source": [
        "<a href=\"https://colab.research.google.com/github/mayank-liv/German-traffic-sign-recognition/blob/master/German_traffic_sign_recognition2.ipynb\" target=\"_parent\"><img src=\"https://colab.research.google.com/assets/colab-badge.svg\" alt=\"Open In Colab\"/></a>"
      ]
    },
    {
      "cell_type": "markdown",
      "metadata": {
        "id": "tdsEImUj6fIr",
        "colab_type": "text"
      },
      "source": [
        "# Traffic Sign Recognition Model"
      ]
    },
    {
      "cell_type": "markdown",
      "metadata": {
        "id": "buwo0sZO6rhw",
        "colab_type": "text"
      },
      "source": [
        "## The first step involves importing the libraries and loading the dataset, as is done in the following steps -"
      ]
    },
    {
      "cell_type": "code",
      "metadata": {
        "id": "VhSmWwS2fAdi",
        "colab_type": "code",
        "colab": {}
      },
      "source": [
        "#Importing all the libraries\n",
        "\n",
        "import numpy as np \n",
        "import pandas as pd \n",
        "\n",
        "import os\n",
        "\n",
        "import matplotlib.pyplot as plt\n",
        "import tensorflow as tf\n",
        "import cv2\n",
        "from PIL import Image\n",
        "\n",
        "import random\n",
        "import time\n",
        "from skimage import io, transform\n",
        "\n",
        "from keras.preprocessing.image import ImageDataGenerator\n",
        "from sklearn.model_selection import train_test_split\n",
        "\n",
        "from keras import layers\n",
        "from keras.layers import Input, Add, Dense, Activation, ZeroPadding2D, BatchNormalization, Flatten, Conv2D, AveragePooling2D, MaxPooling2D, GlobalMaxPooling2D,Dropout\n",
        "from keras.models import Model, load_model,Sequential\n",
        "from keras.preprocessing import image\n",
        "from keras.utils import layer_utils\n",
        "from keras.utils.data_utils import get_file\n",
        "from keras.applications.imagenet_utils import preprocess_input\n",
        "import pydot\n",
        "from IPython.display import SVG\n",
        "from keras.utils.vis_utils import model_to_dot\n",
        "from keras.utils import plot_model\n",
        "#from resnets_utils import *\n",
        "from keras.initializers import glorot_uniform\n",
        "import scipy.misc\n",
        "from matplotlib.pyplot import imshow\n",
        "\n",
        "from keras import optimizers\n",
        "from keras.optimizers import SGD\n",
        "#K.set_image_data_format('channels_first')\n",
        "import keras.backend as K\n",
        "K.set_image_data_format('channels_last')\n",
        "K.set_learning_phase(1)"
      ],
      "execution_count": 0,
      "outputs": []
    },
    {
      "cell_type": "code",
      "metadata": {
        "id": "KilT7oIhXqBG",
        "colab_type": "code",
        "outputId": "7ce2af37-cd99-402d-a317-587e01a99b9b",
        "colab": {
          "base_uri": "https://localhost:8080/",
          "height": 34
        }
      },
      "source": [
        "from google.colab import drive\n",
        "drive.mount('/content/drive')"
      ],
      "execution_count": 31,
      "outputs": [
        {
          "output_type": "stream",
          "text": [
            "Drive already mounted at /content/drive; to attempt to forcibly remount, call drive.mount(\"/content/drive\", force_remount=True).\n"
          ],
          "name": "stdout"
        }
      ]
    },
    {
      "cell_type": "code",
      "metadata": {
        "id": "Kl_kXznZaOpX",
        "colab_type": "code",
        "outputId": "e3c9060a-9107-43c4-aa76-b4aed7ff8d1b",
        "colab": {
          "base_uri": "https://localhost:8080/",
          "height": 84
        }
      },
      "source": [
        "!unzip '/content/drive/My Drive/gtsrb-german-traffic-sign.zip'"
      ],
      "execution_count": 32,
      "outputs": [
        {
          "output_type": "stream",
          "text": [
            "Archive:  /content/drive/My Drive/gtsrb-german-traffic-sign.zip\n",
            "replace Train.tar? [y]es, [n]o, [A]ll, [N]one, [r]ename: n\n",
            "replace Meta.tar? [y]es, [n]o, [A]ll, [N]one, [r]ename: n\n",
            "replace Meta.csv? [y]es, [n]o, [A]ll, [N]one, [r]ename: N\n"
          ],
          "name": "stdout"
        }
      ]
    },
    {
      "cell_type": "markdown",
      "metadata": {
        "id": "xHwn76gXO5fA",
        "colab_type": "text"
      },
      "source": [
        "## We convert the individual images into an array of images. "
      ]
    },
    {
      "cell_type": "code",
      "metadata": {
        "id": "bcHhq1Fz8tdI",
        "colab_type": "code",
        "colab": {}
      },
      "source": [
        "#Make a list of images, and their labels\n",
        "\n",
        "\n",
        "def load_images(path):\n",
        "    images = []                                        #Images list\n",
        "    labels = []                                        #Labels list\n",
        "    classes = [i for i in range(43)]\n",
        "    for new_class in classes:\n",
        "        new_path = path + str(new_class) + \"/\"\n",
        "        file_names = [os.path.join(new_path, f)\n",
        "                      for f in os.listdir(new_path)]\n",
        "        \n",
        "        for file in file_names:\n",
        "            images.append(io.imread(file))\n",
        "            labels.append(new_class)\n",
        "    \n",
        "    return images, labels\n",
        "\n",
        "\n",
        "train_images, train_labels = load_images(\"../content/\")       #Returns 2 lists of training images, and their labels"
      ],
      "execution_count": 0,
      "outputs": []
    },
    {
      "cell_type": "code",
      "metadata": {
        "id": "mlge6ewVgdeY",
        "colab_type": "code",
        "outputId": "6952654e-d31d-423a-bfcf-937ea72e630f",
        "colab": {
          "base_uri": "https://localhost:8080/",
          "height": 34
        }
      },
      "source": [
        "len(train_images)"
      ],
      "execution_count": 13,
      "outputs": [
        {
          "output_type": "execute_result",
          "data": {
            "text/plain": [
              "39209"
            ]
          },
          "metadata": {
            "tags": []
          },
          "execution_count": 13
        }
      ]
    },
    {
      "cell_type": "code",
      "metadata": {
        "id": "0fZN6HtK6jIJ",
        "colab_type": "code",
        "colab": {}
      },
      "source": [
        "#Make a list of Test Data\n",
        "\n",
        "test_data = pd.read_csv(\"../content/Test.csv\")       \n",
        "test_labels = test_data['ClassId'].values\n",
        "paths = test_data['Path'].values\n",
        "\n",
        "\n",
        "def load_test_images(paths):\n",
        "    images=[]                            #List of test images\n",
        "    for f in paths:\n",
        "        image = io.imread('../content/' + f.replace('Test/', ''))\n",
        "        images.append(image)\n",
        "    return images\n",
        "\n",
        "test_images = load_test_images(paths)            #Returns a list of the test images"
      ],
      "execution_count": 0,
      "outputs": []
    },
    {
      "cell_type": "code",
      "metadata": {
        "id": "cebYvz3vBKeK",
        "colab_type": "code",
        "colab": {}
      },
      "source": [
        "#Convert the lists into arrays and print their length\n",
        "\n",
        "train_images = np.array(train_images)\n",
        "train_labels = np.array(train_labels)\n",
        "test_images = np.array(test_images)\n",
        "test_labels = np.array(test_labels)\n",
        "\n",
        "n_classes=43\n",
        "\n"
      ],
      "execution_count": 0,
      "outputs": []
    },
    {
      "cell_type": "code",
      "metadata": {
        "id": "jKwoOW6DDae8",
        "colab_type": "code",
        "outputId": "c5027be6-c937-475e-e8db-4dc3790cb455",
        "colab": {
          "base_uri": "https://localhost:8080/",
          "height": 101
        }
      },
      "source": [
        "#Print lenths of different arrays\n",
        "\n",
        "\n",
        "print(\"Length of train images is \" + str(train_images.shape))\n",
        "print(\"Length of train labels is \" + str(train_labels.shape))\n",
        "print(\"Length of test images is \" + str(test_images.shape))\n",
        "print(\"Length of test labels is \" + str(test_labels.shape))\n",
        "print(\"Length of classes is \" + str(n_classes))"
      ],
      "execution_count": 17,
      "outputs": [
        {
          "output_type": "stream",
          "text": [
            "Length of train images is (39209,)\n",
            "Length of train labels is (39209,)\n",
            "Length of test images is (12630,)\n",
            "Length of test labels is (12630,)\n",
            "Length of classes is 43\n"
          ],
          "name": "stdout"
        }
      ]
    },
    {
      "cell_type": "markdown",
      "metadata": {
        "id": "M3V2j_lsxP-v",
        "colab_type": "text"
      },
      "source": [
        "## Inorder to have a better idea about the images we are using, we print them"
      ]
    },
    {
      "cell_type": "code",
      "metadata": {
        "id": "yvvudB3qE63U",
        "colab_type": "code",
        "outputId": "c6a1de9c-e496-4fcd-de2a-acd5d7bab5f4",
        "colab": {
          "base_uri": "https://localhost:8080/",
          "height": 1000
        }
      },
      "source": [
        "# Function to print a certain number of random images\n",
        "\n",
        "def print_images(images, labels, n_images): \n",
        "# images is the array of iamges from which image is to be printed\n",
        "# labels is the array of labels of the images \n",
        "# n_images is the number of images that are to be printed\n",
        "    for i in range(n_images):\n",
        "        index_img = int(random.random() * len(images))\n",
        "        plt.axis('off')\n",
        "        plt.imshow(images[index_img])\n",
        "        plt.show()\n",
        "        \n",
        "        print(\"Image Size = \" + str(images[index_img].shape))\n",
        "        print(\"Image Class = \" + str(labels[index_img]))\n",
        "\n",
        "        \n",
        "print(\"Here are a few training images\")\n",
        "print_images(train_images, train_labels, 5)"
      ],
      "execution_count": 18,
      "outputs": [
        {
          "output_type": "stream",
          "text": [
            "Here are a few training images\n"
          ],
          "name": "stdout"
        },
        {
          "output_type": "display_data",
          "data": {
            "image/png": "[encoded data removed]",
            "text/plain": [
              "<Figure size 432x288 with 1 Axes>"
            ]
          },
          "metadata": {
            "tags": []
          }
        },
        {
          "output_type": "stream",
          "text": [
            "Image Size = (38, 39, 3)\n",
            "Image Class = 2\n"
          ],
          "name": "stdout"
        },
        {
          "output_type": "display_data",
          "data": {
            "image/png": "[encoded data removed]",
            "text/plain": [
              "<Figure size 432x288 with 1 Axes>"
            ]
          },
          "metadata": {
            "tags": []
          }
        },
        {
          "output_type": "stream",
          "text": [
            "Image Size = (41, 38, 3)\n",
            "Image Class = 38\n"
          ],
          "name": "stdout"
        },
        {
          "output_type": "display_data",
          "data": {
            "image/png": "[encoded data removed]",
            "text/plain": [
              "<Figure size 432x288 with 1 Axes>"
            ]
          },
          "metadata": {
            "tags": []
          }
        },
        {
          "output_type": "stream",
          "text": [
            "Image Size = (52, 53, 3)\n",
            "Image Class = 4\n"
          ],
          "name": "stdout"
        },
        {
          "output_type": "display_data",
          "data": {
            "image/png": "[encoded data removed]",
            "text/plain": [
              "<Figure size 432x288 with 1 Axes>"
            ]
          },
          "metadata": {
            "tags": []
          }
        },
        {
          "output_type": "stream",
          "text": [
            "Image Size = (30, 28, 3)\n",
            "Image Class = 32\n"
          ],
          "name": "stdout"
        },
        {
          "output_type": "display_data",
          "data": {
            "image/png": "[encoded data removed]",
            "text/plain": [
              "<Figure size 432x288 with 1 Axes>"
            ]
          },
          "metadata": {
            "tags": []
          }
        },
        {
          "output_type": "stream",
          "text": [
            "Image Size = (28, 28, 3)\n",
            "Image Class = 3\n"
          ],
          "name": "stdout"
        }
      ]
    },
    {
      "cell_type": "code",
      "metadata": {
        "id": "mM0UrVTPTDFw",
        "colab_type": "code",
        "outputId": "dceca160-36f2-4afb-f923-275c2f9a6e11",
        "colab": {
          "base_uri": "https://localhost:8080/",
          "height": 1000
        }
      },
      "source": [
        "#Print a few images from the testing dataset\n",
        "\n",
        "print(\"Here are a few images from the testing dataset\")\n",
        "print_images(test_images, test_labels, 5)"
      ],
      "execution_count": 19,
      "outputs": [
        {
          "output_type": "stream",
          "text": [
            "Here are a few images from the testing dataset\n"
          ],
          "name": "stdout"
        },
        {
          "output_type": "display_data",
          "data": {
            "image/png": "[encoded data removed]",
            "text/plain": [
              "<Figure size 432x288 with 1 Axes>"
            ]
          },
          "metadata": {
            "tags": []
          }
        },
        {
          "output_type": "stream",
          "text": [
            "Image Size = (40, 43, 3)\n",
            "Image Class = 27\n"
          ],
          "name": "stdout"
        },
        {
          "output_type": "display_data",
          "data": {
            "image/png": "[encoded data removed]",
            "text/plain": [
              "<Figure size 432x288 with 1 Axes>"
            ]
          },
          "metadata": {
            "tags": []
          }
        },
        {
          "output_type": "stream",
          "text": [
            "Image Size = (44, 47, 3)\n",
            "Image Class = 18\n"
          ],
          "name": "stdout"
        },
        {
          "output_type": "display_data",
          "data": {
            "image/png": "[encoded data removed]",
            "text/plain": [
              "<Figure size 432x288 with 1 Axes>"
            ]
          },
          "metadata": {
            "tags": []
          }
        },
        {
          "output_type": "stream",
          "text": [
            "Image Size = (36, 37, 3)\n",
            "Image Class = 5\n"
          ],
          "name": "stdout"
        },
        {
          "output_type": "display_data",
          "data": {
            "image/png": "[encoded data removed]",
            "text/plain": [
              "<Figure size 432x288 with 1 Axes>"
            ]
          },
          "metadata": {
            "tags": []
          }
        },
        {
          "output_type": "stream",
          "text": [
            "Image Size = (60, 70, 3)\n",
            "Image Class = 25\n"
          ],
          "name": "stdout"
        },
        {
          "output_type": "display_data",
          "data": {
            "image/png": "[encoded data removed]",
            "text/plain": [
              "<Figure size 432x288 with 1 Axes>"
            ]
          },
          "metadata": {
            "tags": []
          }
        },
        {
          "output_type": "stream",
          "text": [
            "Image Size = (26, 26, 3)\n",
            "Image Class = 10\n"
          ],
          "name": "stdout"
        }
      ]
    },
    {
      "cell_type": "markdown",
      "metadata": {
        "id": "SSgYf8G1xb_X",
        "colab_type": "text"
      },
      "source": [
        "## Finally, we design the model"
      ]
    },
    {
      "cell_type": "code",
      "metadata": {
        "id": "zFUjNx1rUbri",
        "colab_type": "code",
        "colab": {}
      },
      "source": [
        "# Resize the images, so that they will work better when we train them\n",
        "\n",
        "def resize_images(images, new_size):  #Function to return an array of resized images\n",
        "    \n",
        "    new_images = np.array([transform.resize(image, new_size) for image in images])\n",
        "    return new_images\n",
        "\n",
        "train_images = resize_images(train_images, (48, 48))\n",
        "test_images = resize_images(test_images, (48, 48))\n",
        "\n",
        "train_images /= 255\n",
        "test_images /= 255"
      ],
      "execution_count": 0,
      "outputs": []
    },
    {
      "cell_type": "code",
      "metadata": {
        "id": "qbDsO_EhqVEn",
        "colab_type": "code",
        "outputId": "e9eda284-e17a-4ed7-8918-9db8674b617d",
        "colab": {
          "base_uri": "https://localhost:8080/",
          "height": 134
        }
      },
      "source": [
        "train_labels.reshape((39209, 1))"
      ],
      "execution_count": 21,
      "outputs": [
        {
          "output_type": "execute_result",
          "data": {
            "text/plain": [
              "array([[ 0],\n",
              "       [ 0],\n",
              "       [ 0],\n",
              "       ...,\n",
              "       [42],\n",
              "       [42],\n",
              "       [42]])"
            ]
          },
          "metadata": {
            "tags": []
          },
          "execution_count": 21
        }
      ]
    },
    {
      "cell_type": "code",
      "metadata": {
        "id": "UKgOJFVskJa8",
        "colab_type": "code",
        "outputId": "656ccf46-29c6-432f-fe23-1e545561e8a5",
        "colab": {
          "base_uri": "https://localhost:8080/",
          "height": 84
        }
      },
      "source": [
        "#Print shapes of different arrays\n",
        "\n",
        "\n",
        "print(\"Shape of train images is \" + str(train_images.shape))\n",
        "print(\"Śhape of train labels is \" + str(train_labels.shape))\n",
        "print(\"Shape of test images is \" + str(test_images.shape))\n",
        "print(\"Shape of test labels is \" + str(test_labels.shape))"
      ],
      "execution_count": 22,
      "outputs": [
        {
          "output_type": "stream",
          "text": [
            "Shape of train images is (39209, 48, 48, 3)\n",
            "Śhape of train labels is (39209,)\n",
            "Shape of test images is (12630, 48, 48, 3)\n",
            "Shape of test labels is (12630,)\n"
          ],
          "name": "stdout"
        }
      ]
    },
    {
      "cell_type": "code",
      "metadata": {
        "id": "rZUAOsCQZE0c",
        "colab_type": "code",
        "colab": {}
      },
      "source": [
        "# Design the model\n",
        "\n",
        "\n",
        "classifier=Sequential()\n",
        "\n",
        "#print(X_train.shape)\n",
        "classifier.add(Conv2D(8,(3,3),padding='Same',activation='relu',kernel_initializer=glorot_uniform(seed=0),input_shape=[48,48,3]))\n",
        "classifier.add(BatchNormalization())\n",
        "classifier.add(MaxPooling2D((2,2),strides=(1,1)))\n",
        "classifier.add(Dropout(0.4))\n",
        "#print(X_train.shape)\n",
        "#classifier.add(Conv2D(8,(3,3),padding='Same',activation='relu',kernel_initializer=glorot_uniform(seed=0)))\n",
        "#classifier.add(BatchNormalization())\n",
        "#classifier.add(MaxPooling2D((2,2),strides=(1,1)))\n",
        "#classifier.add(Dropout(0.4))\n",
        "#print(X_train.shape)               \n",
        "classifier.add(Conv2D(16,(3,3),padding='Valid',activation='relu',kernel_initializer=glorot_uniform(seed=0)))\n",
        "classifier.add(BatchNormalization())\n",
        "classifier.add(MaxPooling2D((2,2),strides=(1,1)))     \n",
        "classifier.add(Dropout(0.4))\n",
        "#print(X_train.shape)               \n",
        "#classifier.add(Conv2D(16,(3,3),padding='Valid',activation='relu',kernel_initializer=glorot_uniform(seed=0)))\n",
        "#classifier.add(BatchNormalization())\n",
        "#classifier.add(MaxPooling2D((2,2),strides=(1,1)))               \n",
        "#classifier.add(Dropout(0.4))\n",
        "#print(X_train.shape)               \n",
        "classifier.add(Flatten())               \n",
        "#classifier.add(Dense(1024,activation='relu',kernel_initializer=glorot_uniform(seed=0)))\n",
        "#classifier.add(Dropout(0.4))\n",
        "#classifier.add(Dense(512,activation='relu',kernel_initializer=glorot_uniform(seed=0)))\n",
        "#classifier.add(Dropout(0.4))\n",
        "#classifier.add(Dense(256,activation='relu',kernel_initializer=glorot_uniform(seed=0)))\n",
        "#classifier.add(Dense(128,activation='relu',kernel_initializer=glorot_uniform(seed=0)))\n",
        "#classifier.add(Dense(64,activation='relu',kernel_initializer=glorot_uniform(seed=0)))\n",
        "#classifier.add(Dense(32,activation='relu',kernel_initializer=glorot_uniform(seed=0)))               \n",
        "#classifier.add(Dense(10,activation='relu',kernel_initializer=glorot_uniform(seed=0)))\n",
        "classifier.add(Dense(n_classes, activation='softmax', kernel_initializer=glorot_uniform(seed=0)))"
      ],
      "execution_count": 0,
      "outputs": []
    },
    {
      "cell_type": "code",
      "metadata": {
        "id": "upD92_-SBnqj",
        "colab_type": "code",
        "colab": {
          "base_uri": "https://localhost:8080/",
          "height": 34
        },
        "outputId": "be3cea66-5b61-4a4e-8127-6f0643f29d93"
      },
      "source": [
        "# Designing the model\n",
        "\n",
        "Y_=train_labels.reshape(-1,1)\n",
        "\n",
        "from sklearn.preprocessing import OneHotEncoder\n",
        "enc=OneHotEncoder(handle_unknown=\"ignore\")\n",
        "Y_train=enc.fit_transform(Y_).toarray()\n",
        "Y_train.shape"
      ],
      "execution_count": 35,
      "outputs": [
        {
          "output_type": "execute_result",
          "data": {
            "text/plain": [
              "(39209, 43)"
            ]
          },
          "metadata": {
            "tags": []
          },
          "execution_count": 35
        }
      ]
    },
    {
      "cell_type": "code",
      "metadata": {
        "id": "DYpQAgW0CHUS",
        "colab_type": "code",
        "colab": {}
      },
      "source": [
        "# Shuffling the dataset\n",
        "\n",
        "from  sklearn.utils import shuffle\n",
        "\n",
        "X_train, Y_train = shuffle(train_images, Y_train, random_state=0)"
      ],
      "execution_count": 0,
      "outputs": []
    },
    {
      "cell_type": "code",
      "metadata": {
        "id": "GVoDztjLZP7-",
        "colab_type": "code",
        "colab": {
          "base_uri": "https://localhost:8080/",
          "height": 70
        },
        "outputId": "3465e2d0-9943-450f-e6bd-60b38ccea557"
      },
      "source": [
        "from keras import optimizers\n",
        "classifier.compile(optimizer='adam',loss='categorical_crossentropy',metrics=['accuracy'])"
      ],
      "execution_count": 37,
      "outputs": [
        {
          "output_type": "stream",
          "text": [
            "WARNING:tensorflow:From /usr/local/lib/python3.6/dist-packages/keras/optimizers.py:793: The name tf.train.Optimizer is deprecated. Please use tf.compat.v1.train.Optimizer instead.\n",
            "\n"
          ],
          "name": "stdout"
        }
      ]
    },
    {
      "cell_type": "code",
      "metadata": {
        "id": "QpBRJGdG3-Nc",
        "colab_type": "code",
        "colab": {
          "base_uri": "https://localhost:8080/",
          "height": 1000
        },
        "outputId": "ba7b42eb-458e-46d4-d35a-ba296d309a1e"
      },
      "source": [
        "classifier.fit(X_train,Y_train,epochs=50,batch_size=512,validation_split=0.2)"
      ],
      "execution_count": 44,
      "outputs": [
        {
          "output_type": "stream",
          "text": [
            "Train on 31367 samples, validate on 7842 samples\n",
            "Epoch 1/50\n",
            "31367/31367 [==============================] - 4s 121us/step - loss: 0.1020 - acc: 0.9732 - val_loss: 0.2308 - val_acc: 0.9490\n",
            "Epoch 2/50\n",
            "31367/31367 [==============================] - 4s 118us/step - loss: 0.0949 - acc: 0.9742 - val_loss: 0.2631 - val_acc: 0.9464\n",
            "Epoch 3/50\n",
            "31367/31367 [==============================] - 4s 119us/step - loss: 0.0913 - acc: 0.9747 - val_loss: 0.2579 - val_acc: 0.9486\n",
            "Epoch 4/50\n",
            "31367/31367 [==============================] - 4s 118us/step - loss: 0.0901 - acc: 0.9753 - val_loss: 0.2321 - val_acc: 0.9503\n",
            "Epoch 5/50\n",
            "31367/31367 [==============================] - 4s 118us/step - loss: 0.0909 - acc: 0.9758 - val_loss: 0.2559 - val_acc: 0.9472\n",
            "Epoch 6/50\n",
            "31367/31367 [==============================] - 4s 119us/step - loss: 0.0908 - acc: 0.9757 - val_loss: 0.2199 - val_acc: 0.9545\n",
            "Epoch 7/50\n",
            "31367/31367 [==============================] - 4s 119us/step - loss: 0.0844 - acc: 0.9776 - val_loss: 0.2471 - val_acc: 0.9486\n",
            "Epoch 8/50\n",
            "31367/31367 [==============================] - 4s 118us/step - loss: 0.0824 - acc: 0.9782 - val_loss: 0.2386 - val_acc: 0.9517\n",
            "Epoch 9/50\n",
            "31367/31367 [==============================] - 4s 119us/step - loss: 0.0829 - acc: 0.9768 - val_loss: 0.2752 - val_acc: 0.9468\n",
            "Epoch 10/50\n",
            "31367/31367 [==============================] - 4s 119us/step - loss: 0.0855 - acc: 0.9778 - val_loss: 0.2829 - val_acc: 0.9454\n",
            "Epoch 11/50\n",
            "31367/31367 [==============================] - 4s 119us/step - loss: 0.0871 - acc: 0.9765 - val_loss: 0.2648 - val_acc: 0.9471\n",
            "Epoch 12/50\n",
            "31367/31367 [==============================] - 4s 118us/step - loss: 0.0850 - acc: 0.9778 - val_loss: 0.2528 - val_acc: 0.9498\n",
            "Epoch 13/50\n",
            "31367/31367 [==============================] - 4s 118us/step - loss: 0.0782 - acc: 0.9789 - val_loss: 0.2433 - val_acc: 0.9547\n",
            "Epoch 14/50\n",
            "31367/31367 [==============================] - 4s 119us/step - loss: 0.0770 - acc: 0.9787 - val_loss: 0.2699 - val_acc: 0.9498\n",
            "Epoch 15/50\n",
            "31367/31367 [==============================] - 4s 118us/step - loss: 0.0749 - acc: 0.9804 - val_loss: 0.2400 - val_acc: 0.9527\n",
            "Epoch 16/50\n",
            "31367/31367 [==============================] - 4s 118us/step - loss: 0.0717 - acc: 0.9806 - val_loss: 0.2446 - val_acc: 0.9536\n",
            "Epoch 17/50\n",
            "31367/31367 [==============================] - 4s 118us/step - loss: 0.0722 - acc: 0.9796 - val_loss: 0.2498 - val_acc: 0.9528\n",
            "Epoch 18/50\n",
            "31367/31367 [==============================] - 4s 119us/step - loss: 0.0652 - acc: 0.9821 - val_loss: 0.2634 - val_acc: 0.9517\n",
            "Epoch 19/50\n",
            "31367/31367 [==============================] - 4s 119us/step - loss: 0.0699 - acc: 0.9815 - val_loss: 0.2241 - val_acc: 0.9572\n",
            "Epoch 20/50\n",
            "31367/31367 [==============================] - 4s 118us/step - loss: 0.0618 - acc: 0.9831 - val_loss: 0.2477 - val_acc: 0.9517\n",
            "Epoch 21/50\n",
            "31367/31367 [==============================] - 4s 118us/step - loss: 0.0652 - acc: 0.9833 - val_loss: 0.2505 - val_acc: 0.9528\n",
            "Epoch 22/50\n",
            "31367/31367 [==============================] - 4s 118us/step - loss: 0.0690 - acc: 0.9817 - val_loss: 0.2739 - val_acc: 0.9527\n",
            "Epoch 23/50\n",
            "31367/31367 [==============================] - 4s 119us/step - loss: 0.0704 - acc: 0.9807 - val_loss: 0.2558 - val_acc: 0.9541\n",
            "Epoch 24/50\n",
            "31367/31367 [==============================] - 4s 119us/step - loss: 0.0674 - acc: 0.9827 - val_loss: 0.2738 - val_acc: 0.9491\n",
            "Epoch 25/50\n",
            "31367/31367 [==============================] - 4s 119us/step - loss: 0.0630 - acc: 0.9840 - val_loss: 0.2404 - val_acc: 0.9563\n",
            "Epoch 26/50\n",
            "31367/31367 [==============================] - 4s 119us/step - loss: 0.0604 - acc: 0.9843 - val_loss: 0.2612 - val_acc: 0.9515\n",
            "Epoch 27/50\n",
            "31367/31367 [==============================] - 4s 118us/step - loss: 0.0622 - acc: 0.9838 - val_loss: 0.2499 - val_acc: 0.9546\n",
            "Epoch 28/50\n",
            "31367/31367 [==============================] - 4s 119us/step - loss: 0.0623 - acc: 0.9831 - val_loss: 0.2486 - val_acc: 0.9560\n",
            "Epoch 29/50\n",
            "31367/31367 [==============================] - 4s 119us/step - loss: 0.0616 - acc: 0.9843 - val_loss: 0.2838 - val_acc: 0.9513\n",
            "Epoch 30/50\n",
            "31367/31367 [==============================] - 4s 120us/step - loss: 0.0592 - acc: 0.9842 - val_loss: 0.2230 - val_acc: 0.9588\n",
            "Epoch 31/50\n",
            "31367/31367 [==============================] - 4s 119us/step - loss: 0.0543 - acc: 0.9864 - val_loss: 0.2574 - val_acc: 0.9540\n",
            "Epoch 32/50\n",
            "31367/31367 [==============================] - 4s 119us/step - loss: 0.0580 - acc: 0.9845 - val_loss: 0.2438 - val_acc: 0.9570\n",
            "Epoch 33/50\n",
            "31367/31367 [==============================] - 4s 119us/step - loss: 0.0596 - acc: 0.9853 - val_loss: 0.2344 - val_acc: 0.9582\n",
            "Epoch 34/50\n",
            "31367/31367 [==============================] - 4s 119us/step - loss: 0.0578 - acc: 0.9848 - val_loss: 0.2881 - val_acc: 0.9554\n",
            "Epoch 35/50\n",
            "31367/31367 [==============================] - 4s 119us/step - loss: 0.0589 - acc: 0.9849 - val_loss: 0.2496 - val_acc: 0.9537\n",
            "Epoch 36/50\n",
            "31367/31367 [==============================] - 4s 119us/step - loss: 0.0570 - acc: 0.9855 - val_loss: 0.2600 - val_acc: 0.9575\n",
            "Epoch 37/50\n",
            "31367/31367 [==============================] - 4s 119us/step - loss: 0.0529 - acc: 0.9862 - val_loss: 0.2630 - val_acc: 0.9547\n",
            "Epoch 38/50\n",
            "31367/31367 [==============================] - 4s 119us/step - loss: 0.0568 - acc: 0.9859 - val_loss: 0.2434 - val_acc: 0.9588\n",
            "Epoch 39/50\n",
            "31367/31367 [==============================] - 4s 119us/step - loss: 0.0545 - acc: 0.9865 - val_loss: 0.2579 - val_acc: 0.9558\n",
            "Epoch 40/50\n",
            "31367/31367 [==============================] - 4s 121us/step - loss: 0.0521 - acc: 0.9867 - val_loss: 0.2657 - val_acc: 0.9569\n",
            "Epoch 41/50\n",
            "31367/31367 [==============================] - 4s 120us/step - loss: 0.0513 - acc: 0.9865 - val_loss: 0.2714 - val_acc: 0.9556\n",
            "Epoch 42/50\n",
            "31367/31367 [==============================] - 4s 119us/step - loss: 0.0590 - acc: 0.9856 - val_loss: 0.2525 - val_acc: 0.9566\n",
            "Epoch 43/50\n",
            "31367/31367 [==============================] - 4s 119us/step - loss: 0.0533 - acc: 0.9860 - val_loss: 0.2589 - val_acc: 0.9560\n",
            "Epoch 44/50\n",
            "31367/31367 [==============================] - 4s 119us/step - loss: 0.0581 - acc: 0.9858 - val_loss: 0.2289 - val_acc: 0.9594\n",
            "Epoch 45/50\n",
            "31367/31367 [==============================] - 4s 119us/step - loss: 0.0503 - acc: 0.9871 - val_loss: 0.2243 - val_acc: 0.9570\n",
            "Epoch 46/50\n",
            "31367/31367 [==============================] - 4s 119us/step - loss: 0.0561 - acc: 0.9867 - val_loss: 0.2342 - val_acc: 0.9626\n",
            "Epoch 47/50\n",
            "31367/31367 [==============================] - 4s 119us/step - loss: 0.0469 - acc: 0.9883 - val_loss: 0.2347 - val_acc: 0.9597\n",
            "Epoch 48/50\n",
            "31367/31367 [==============================] - 4s 119us/step - loss: 0.0483 - acc: 0.9879 - val_loss: 0.2364 - val_acc: 0.9594\n",
            "Epoch 49/50\n",
            "31367/31367 [==============================] - 4s 119us/step - loss: 0.0503 - acc: 0.9875 - val_loss: 0.2354 - val_acc: 0.9574\n",
            "Epoch 50/50\n",
            "31367/31367 [==============================] - 4s 119us/step - loss: 0.0501 - acc: 0.9878 - val_loss: 0.2351 - val_acc: 0.9593\n"
          ],
          "name": "stdout"
        },
        {
          "output_type": "execute_result",
          "data": {
            "text/plain": [
              "<keras.callbacks.History at 0x7f2a703ba748>"
            ]
          },
          "metadata": {
            "tags": []
          },
          "execution_count": 44
        }
      ]
    },
    {
      "cell_type": "code",
      "metadata": {
        "id": "l70IP3wGGzBi",
        "colab_type": "code",
        "colab": {}
      },
      "source": [
        "classifier.save(\"../content/model1.h5\")"
      ],
      "execution_count": 0,
      "outputs": []
    },
    {
      "cell_type": "markdown",
      "metadata": {
        "id": "KHNU4Gajy2F_",
        "colab_type": "text"
      },
      "source": [
        "## Testing the designed model, on the test data"
      ]
    },
    {
      "cell_type": "code",
      "metadata": {
        "id": "1_UQCIoyMj3l",
        "colab_type": "code",
        "colab": {}
      },
      "source": [
        "Y1=test_labels.reshape(-1,1)\n",
        "\n",
        "from sklearn.preprocessing import OneHotEncoder\n",
        "enc=OneHotEncoder(handle_unknown=\"ignore\")\n",
        "Y_test=enc.fit_transform(Y1).toarray()"
      ],
      "execution_count": 0,
      "outputs": []
    },
    {
      "cell_type": "code",
      "metadata": {
        "id": "Wa_q2JxTMKbg",
        "colab_type": "code",
        "colab": {
          "base_uri": "https://localhost:8080/",
          "height": 50
        },
        "outputId": "220cf6dc-b7f0-47c3-b38d-75c1633f1714"
      },
      "source": [
        "loss,accuracy=classifier.evaluate(test_images,Y_test)\n",
        "print(\"The accuracy of the model for the test set is\", accuracy)"
      ],
      "execution_count": 45,
      "outputs": [
        {
          "output_type": "stream",
          "text": [
            "12630/12630 [==============================] - 1s 98us/step\n",
            "The accuracy of the model for the test set is 0.8539192398672338\n"
          ],
          "name": "stdout"
        }
      ]
    },
    {
      "cell_type": "code",
      "metadata": {
        "id": "WQhXGMXdq9VS",
        "colab_type": "code",
        "colab": {
          "base_uri": "https://localhost:8080/",
          "height": 487
        },
        "outputId": "94a0baff-0ede-4004-a7ba-0e4012a3cdcb"
      },
      "source": [
        "classifier.summary()"
      ],
      "execution_count": 47,
      "outputs": [
        {
          "output_type": "stream",
          "text": [
            "Model: \"sequential_1\"\n",
            "_________________________________________________________________\n",
            "Layer (type)                 Output Shape              Param #   \n",
            "=================================================================\n",
            "conv2d_1 (Conv2D)            (None, 48, 48, 8)         224       \n",
            "_________________________________________________________________\n",
            "batch_normalization_1 (Batch (None, 48, 48, 8)         32        \n",
            "_________________________________________________________________\n",
            "max_pooling2d_1 (MaxPooling2 (None, 47, 47, 8)         0         \n",
            "_________________________________________________________________\n",
            "dropout_1 (Dropout)          (None, 47, 47, 8)         0         \n",
            "_________________________________________________________________\n",
            "conv2d_2 (Conv2D)            (None, 45, 45, 16)        1168      \n",
            "_________________________________________________________________\n",
            "batch_normalization_2 (Batch (None, 45, 45, 16)        64        \n",
            "_________________________________________________________________\n",
            "max_pooling2d_2 (MaxPooling2 (None, 44, 44, 16)        0         \n",
            "_________________________________________________________________\n",
            "dropout_2 (Dropout)          (None, 44, 44, 16)        0         \n",
            "_________________________________________________________________\n",
            "flatten_1 (Flatten)          (None, 30976)             0         \n",
            "_________________________________________________________________\n",
            "dense_1 (Dense)              (None, 43)                1332011   \n",
            "=================================================================\n",
            "Total params: 1,333,499\n",
            "Trainable params: 1,333,451\n",
            "Non-trainable params: 48\n",
            "_________________________________________________________________\n"
          ],
          "name": "stdout"
        }
      ]
    },
    {
      "cell_type": "code",
      "metadata": {
        "id": "BhiUEJG2sPNd",
        "colab_type": "code",
        "colab": {}
      },
      "source": [
        ""
      ],
      "execution_count": 0,
      "outputs": []
    }
  ]
}